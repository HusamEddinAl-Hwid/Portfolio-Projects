{
 "cells": [
  {
   "cell_type": "code",
   "execution_count": 1,
   "id": "a064ae40-f2cc-463c-b648-ff1284666103",
   "metadata": {},
   "outputs": [],
   "source": [
    "from bs4 import BeautifulSoup\n",
    "import requests\n",
    "import smtplib\n",
    "import time\n",
    "import datetime"
   ]
  },
  {
   "cell_type": "code",
   "execution_count": 53,
   "id": "c97a45d2-baa3-4de2-a2c7-97c34df483a0",
   "metadata": {},
   "outputs": [
    {
     "name": "stdout",
     "output_type": "stream",
     "text": [
      "\n",
      "                    American Eagle Men's U-1165-2706-313 Striped Polo Shirt\n",
      "                   \n",
      "\n",
      "                       SAR84.00\n",
      "                      \n"
     ]
    }
   ],
   "source": [
    "#Connect to Website\n",
    "URL = 'https://www.amazon.sa/-/en/American-Eagle-Mens-Slim-Shirt/dp/B0BFXL8TBY?_encoding=UTF8&content-id=amzn1.sym.8c48aca3-8c61-4665-b348-1ed89ccb2798&dib=eyJ2IjoiMSJ9.CFsruHXcl3ZbbmsZp2byAh9mmSenUlvotbgrpU3-YcqbjDwQhAqMjnqey1g8ez5Piyc3zACfsrmYur2cHH5YpUEOYze2K4YU87D8RjM9mB7SGadgbFvRQM_SpBN4u8SzF6wfN9rrXYhaeqQFbCHeRwdea_5GFuVFgUNFLvtmWeN7AZHUBwsGlfZ1qaQPBCtHqf9W1BQTQSHJFQOLWBROKfjJLJbQX_8x5clniOaQcaJlDK1pxCAkuXe-1IRSo83X1dL5bCxEtSKPER1neOVPUL5HBZq-ILI78ebtN2F9gRQ.6__C6uYo7fx5iI4bsubheEyvzfI6gz8svPdLRoWSeNk&dib_tag=se&pd_rd_r=cc40708e-763a-447a-940e-2df3bd136792&pd_rd_w=ki8Xs&pd_rd_wg=BDQTN&pf_rd_i=22600046031&pf_rd_m=A2XPWB6MYN7ZDK&pf_rd_s=merchandised-search-3&pf_rd_t=101&qid=1744119048&s=apparel&sr=1-5'\n",
    "\n",
    "headers = {\"User-Agent\": \"Mozilla/5.0 (Windows NT 10.0; Win64; x64; rv:137.0) Gecko/20100101 Firefox/137.0\",\"Accept-Encoding\":\"gzip, deflate, br, zstd\",\"Accept\":\"text/html,application/xhtml+xml,application/xml;q=0.9,*/*;q=0.8\",\"DNT\":\"1\",\"Connection\":\"close\",\"Upgrade-Insecure-Requests\":\"1\"}\n",
    "\n",
    "page = requests.get(URL, headers=headers)\n",
    "\n",
    "soup1 = BeautifulSoup(page.content, 'html.parser')\n",
    "\n",
    "soup2 = BeautifulSoup(soup1.prettify(), 'html.parser')\n",
    "\n",
    "title = soup2.find(id='productTitle').get_text()\n",
    "\n",
    "price = soup2.find(attrs={\"class\":\"a-offscreen\"}).get_text()\n",
    "\n",
    "print(title)\n",
    "print(price)\n"
   ]
  },
  {
   "cell_type": "code",
   "execution_count": 55,
   "id": "19533d4e-9931-45cc-b347-cd173cf1d700",
   "metadata": {},
   "outputs": [
    {
     "name": "stdout",
     "output_type": "stream",
     "text": [
      "American Eagle Men's U-1165-2706-313 Striped Polo Shirt\n",
      "84.00\n"
     ]
    }
   ],
   "source": [
    "price = price.strip()[3:]\n",
    "title = title.strip()\n",
    "\n",
    "print(title)\n",
    "print(price)"
   ]
  },
  {
   "cell_type": "code",
   "execution_count": 67,
   "id": "1e53be15-38b9-44c0-b986-ea4544e0d5a7",
   "metadata": {},
   "outputs": [
    {
     "name": "stdout",
     "output_type": "stream",
     "text": [
      "2025-04-08\n"
     ]
    }
   ],
   "source": [
    "today = datetime.date.today()\n",
    "print(today)"
   ]
  },
  {
   "cell_type": "code",
   "execution_count": 71,
   "id": "c79b5618-739c-4cea-9004-1dbe692768ea",
   "metadata": {},
   "outputs": [],
   "source": [
    "#Creating the dataset file\n",
    "import csv\n",
    "\n",
    "header = ['Product','Price','Date']\n",
    "data = [title, price, today]\n",
    "\n",
    "\n",
    "#with open('AmazonWebScraperDataset.csv', 'w', newline='', encoding = 'UTF8') as f:\n",
    " #   writer = csv.writer(f)\n",
    "  #  writer.writerow(header)\n",
    "   # writer.writerow(data)"
   ]
  },
  {
   "cell_type": "code",
   "execution_count": 73,
   "id": "512c74a7-ff1d-41f6-8767-405ffe78bca7",
   "metadata": {},
   "outputs": [
    {
     "name": "stdout",
     "output_type": "stream",
     "text": [
      "                                             Product  Price        Date\n",
      "0  American Eagle Men's U-1165-2706-313 Striped P...   84.0  2025-04-08\n"
     ]
    }
   ],
   "source": [
    "import pandas as pd\n",
    "df = pd.read_csv(r\"C:\\Users\\claod\\AmazonWebScraperDataset.csv\")\n",
    "\n",
    "print(df)"
   ]
  },
  {
   "cell_type": "code",
   "execution_count": null,
   "id": "f1970c76-be51-422e-8c81-03f85cff3ef5",
   "metadata": {},
   "outputs": [],
   "source": [
    "#Appending data to the dataset\n",
    "with open('AmazonWebScraperDataset.csv', 'a+', newline='', encoding = 'UTF8') as f:\n",
    "    writer = csv.writer(f)\n",
    "    writer.writerow(data)"
   ]
  },
  {
   "cell_type": "code",
   "execution_count": 75,
   "id": "67e3d01a-85de-4229-82b0-54c7c7e5f064",
   "metadata": {},
   "outputs": [],
   "source": [
    "def check_price():\n",
    "    URL = 'https://www.amazon.sa/-/en/American-Eagle-Mens-Slim-Shirt/dp/B0BFXL8TBY?_encoding=UTF8&content-id=amzn1.sym.8c48aca3-8c61-4665-b348-1ed89ccb2798&dib=eyJ2IjoiMSJ9.CFsruHXcl3ZbbmsZp2byAh9mmSenUlvotbgrpU3-YcqbjDwQhAqMjnqey1g8ez5Piyc3zACfsrmYur2cHH5YpUEOYze2K4YU87D8RjM9mB7SGadgbFvRQM_SpBN4u8SzF6wfN9rrXYhaeqQFbCHeRwdea_5GFuVFgUNFLvtmWeN7AZHUBwsGlfZ1qaQPBCtHqf9W1BQTQSHJFQOLWBROKfjJLJbQX_8x5clniOaQcaJlDK1pxCAkuXe-1IRSo83X1dL5bCxEtSKPER1neOVPUL5HBZq-ILI78ebtN2F9gRQ.6__C6uYo7fx5iI4bsubheEyvzfI6gz8svPdLRoWSeNk&dib_tag=se&pd_rd_r=cc40708e-763a-447a-940e-2df3bd136792&pd_rd_w=ki8Xs&pd_rd_wg=BDQTN&pf_rd_i=22600046031&pf_rd_m=A2XPWB6MYN7ZDK&pf_rd_s=merchandised-search-3&pf_rd_t=101&qid=1744119048&s=apparel&sr=1-5'\n",
    "\n",
    "    headers = {\"User-Agent\": \"Mozilla/5.0 (Windows NT 10.0; Win64; x64; rv:137.0) Gecko/20100101 Firefox/137.0\",\"Accept-Encoding\":\"gzip, deflate, br, zstd\",\"Accept\":\"text/html,application/xhtml+xml,application/xml;q=0.9,*/*;q=0.8\",\"DNT\":\"1\",\"Connection\":\"close\",\"Upgrade-Insecure-Requests\":\"1\"}\n",
    "\n",
    "    page = requests.get(URL, headers=headers)\n",
    "\n",
    "    soup1 = BeautifulSoup(page.content, 'html.parser')\n",
    "\n",
    "    soup2 = BeautifulSoup(soup1.prettify(), 'html.parser')\n",
    "\n",
    "    title = soup2.find(id='productTitle').get_text()\n",
    "\n",
    "    price = soup2.find(attrs={\"class\":\"a-offscreen\"}).get_text()\n",
    "\n",
    "    price = price.strip()[3:]\n",
    "    title = title.strip()\n",
    "    today = datetime.date.today()\n",
    "\n",
    "    import csv\n",
    "\n",
    "    header = ['Product','Price','Date']\n",
    "    data = [title, price, today]\n",
    "\n",
    "    with open('AmazonWebScraperDataset.csv', 'a+', newline='', encoding = 'UTF8') as f:\n",
    "        writer = csv.writer(f)\n",
    "        writer.writerow(data)"
   ]
  },
  {
   "cell_type": "code",
   "execution_count": null,
   "id": "61a87ea1-182e-4756-8fe1-8dfc753613d9",
   "metadata": {},
   "outputs": [],
   "source": [
    "while(True):\n",
    "    check_price()\n",
    "    time.sleep(86400)"
   ]
  },
  {
   "cell_type": "code",
   "execution_count": 79,
   "id": "da5206a3-ac81-47e5-9195-dbf62e3a823a",
   "metadata": {},
   "outputs": [
    {
     "name": "stdout",
     "output_type": "stream",
     "text": [
      "                                             Product  Price        Date\n",
      "0  American Eagle Men's U-1165-2706-313 Striped P...   84.0  2025-04-08\n",
      "1  American Eagle Men's U-1165-2706-313 Striped P...   84.0  2025-04-08\n",
      "2  American Eagle Men's U-1165-2706-313 Striped P...   84.0  2025-04-08\n",
      "3  American Eagle Men's U-1165-2706-313 Striped P...   84.0  2025-04-08\n",
      "4  American Eagle Men's U-1165-2706-313 Striped P...   84.0  2025-04-08\n",
      "5  American Eagle Men's U-1165-2706-313 Striped P...   84.0  2025-04-08\n",
      "6  American Eagle Men's U-1165-2706-313 Striped P...   84.0  2025-04-08\n"
     ]
    }
   ],
   "source": [
    "import pandas as pd\n",
    "df = pd.read_csv(r\"C:\\Users\\claod\\AmazonWebScraperDataset.csv\")\n",
    "\n",
    "print(df)"
   ]
  },
  {
   "cell_type": "code",
   "execution_count": null,
   "id": "4335fc3b-b181-4b26-988f-3fbde04a6a99",
   "metadata": {},
   "outputs": [],
   "source": [
    "#can use this to auto send an email if price goes down below a certain value\n",
    "def send_mail():\n",
    "    server = smtplib.SMTP_SSL('smtp.gmail.com',465)\n",
    "    server.ehlo()\n",
    "    #server.starttls()\n",
    "    server.ehlo()\n",
    "    server.login('husameddindev@gmail.com','xxxxxxxxx')\n",
    "\n",
    "    subject = \"The product you want to buy is on sale!\"\n",
    "    body = \"Buy it before it's gone!\"\n",
    "\n",
    "    msg = f\"subject: {subject}\\n\\n{body}\"\n",
    "\n",
    "    server.sendmail(\n",
    "        'husameddindev@gmail.com',\n",
    "        msg\n",
    "    )"
   ]
  }
 ],
 "metadata": {
  "kernelspec": {
   "display_name": "Python [conda env:base] *",
   "language": "python",
   "name": "conda-base-py"
  },
  "language_info": {
   "codemirror_mode": {
    "name": "ipython",
    "version": 3
   },
   "file_extension": ".py",
   "mimetype": "text/x-python",
   "name": "python",
   "nbconvert_exporter": "python",
   "pygments_lexer": "ipython3",
   "version": "3.12.7"
  }
 },
 "nbformat": 4,
 "nbformat_minor": 5
}
